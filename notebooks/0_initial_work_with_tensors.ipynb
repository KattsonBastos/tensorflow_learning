{
  "nbformat": 4,
  "nbformat_minor": 0,
  "metadata": {
    "colab": {
      "name": "0. initial_work_with_tensors.ipynb",
      "provenance": [],
      "collapsed_sections": [
        "gyee6bB44neT"
      ],
      "toc_visible": true,
      "authorship_tag": "ABX9TyNwkijEf52OeAN6zZiT8oUE"
    },
    "kernelspec": {
      "name": "python3",
      "display_name": "Python 3"
    },
    "language_info": {
      "name": "python"
    }
  },
  "cells": [
    {
      "cell_type": "markdown",
      "metadata": {
        "id": "yTcLx2R2otTP"
      },
      "source": [
        "# MANIPULATING TENSORS WITH TENSORFLOW!"
      ]
    },
    {
      "cell_type": "markdown",
      "metadata": {
        "id": "-eeVegKzozBz"
      },
      "source": [
        ""
      ]
    },
    {
      "cell_type": "code",
      "metadata": {
        "colab": {
          "base_uri": "https://localhost:8080/"
        },
        "id": "G5RQXS-2oyqQ",
        "outputId": "81844bc1-6af7-481f-faaa-e1bb040652e2"
      },
      "source": [
        "import numpy as np\n",
        "import tensorflow as tf\n",
        "print(tf.__version__)"
      ],
      "execution_count": 1,
      "outputs": [
        {
          "output_type": "stream",
          "text": [
            "2.4.1\n"
          ],
          "name": "stdout"
        }
      ]
    },
    {
      "cell_type": "markdown",
      "metadata": {
        "id": "1ZXdQuhWvxZ3"
      },
      "source": [
        "## 0. Tensors with `tf.constant`\n",
        "tf.constant: creates a constant tensor from a tensor-like object\n",
        "\n",
        "Once assigned, they can't be changed"
      ]
    },
    {
      "cell_type": "code",
      "metadata": {
        "colab": {
          "base_uri": "https://localhost:8080/"
        },
        "id": "NYKCDoMGoxm3",
        "outputId": "d89e902a-475e-4e3f-fb2b-0665aa47e5ae"
      },
      "source": [
        "# creating a scalar\n",
        "scalar = tf.constant(12)\n",
        "scalar"
      ],
      "execution_count": 2,
      "outputs": [
        {
          "output_type": "execute_result",
          "data": {
            "text/plain": [
              "<tf.Tensor: shape=(), dtype=int32, numpy=12>"
            ]
          },
          "metadata": {
            "tags": []
          },
          "execution_count": 2
        }
      ]
    },
    {
      "cell_type": "code",
      "metadata": {
        "colab": {
          "base_uri": "https://localhost:8080/"
        },
        "id": "i419t_t4wpqT",
        "outputId": "5f11af4f-d22e-4e90-ae4d-72f0ceed5539"
      },
      "source": [
        "# creating a vector\n",
        "vector = tf.constant([25,10,93])\n",
        "vector"
      ],
      "execution_count": 3,
      "outputs": [
        {
          "output_type": "execute_result",
          "data": {
            "text/plain": [
              "<tf.Tensor: shape=(3,), dtype=int32, numpy=array([25, 10, 93], dtype=int32)>"
            ]
          },
          "metadata": {
            "tags": []
          },
          "execution_count": 3
        }
      ]
    },
    {
      "cell_type": "code",
      "metadata": {
        "colab": {
          "base_uri": "https://localhost:8080/"
        },
        "id": "H0inJ0ODxXrU",
        "outputId": "53fa5c4a-a233-4901-9c62-04849fb3008f"
      },
      "source": [
        "# creating a matrix\n",
        "matrix = tf.constant([[25,10],\n",
        "                      [19,93]])\n",
        "matrix"
      ],
      "execution_count": 4,
      "outputs": [
        {
          "output_type": "execute_result",
          "data": {
            "text/plain": [
              "<tf.Tensor: shape=(2, 2), dtype=int32, numpy=\n",
              "array([[25, 10],\n",
              "       [19, 93]], dtype=int32)>"
            ]
          },
          "metadata": {
            "tags": []
          },
          "execution_count": 4
        }
      ]
    },
    {
      "cell_type": "code",
      "metadata": {
        "colab": {
          "base_uri": "https://localhost:8080/"
        },
        "id": "tyu19BoXykNx",
        "outputId": "68864598-5e71-4981-bd08-36567ff941e4"
      },
      "source": [
        "# creating a tensor\n",
        "tensor = tf.constant([[[25,10],\n",
        "                      [19,93]],\n",
        "\n",
        "                      [[11,40],\n",
        "                       [20,10]],\n",
        "                      \n",
        "                      [[1,2],\n",
        "                       [2,3]]])\n",
        "tensor # that is, 3 matrices of 2x2"
      ],
      "execution_count": 5,
      "outputs": [
        {
          "output_type": "execute_result",
          "data": {
            "text/plain": [
              "<tf.Tensor: shape=(3, 2, 2), dtype=int32, numpy=\n",
              "array([[[25, 10],\n",
              "        [19, 93]],\n",
              "\n",
              "       [[11, 40],\n",
              "        [20, 10]],\n",
              "\n",
              "       [[ 1,  2],\n",
              "        [ 2,  3]]], dtype=int32)>"
            ]
          },
          "metadata": {
            "tags": []
          },
          "execution_count": 5
        }
      ]
    },
    {
      "cell_type": "markdown",
      "metadata": {
        "id": "eK6bYCFrwecb"
      },
      "source": [
        "#### Dimension of a tensor\n",
        "\n",
        "scalar has a 0 dimension because the shape in the above output is zero"
      ]
    },
    {
      "cell_type": "code",
      "metadata": {
        "id": "qExMqVGvn_M0",
        "colab": {
          "base_uri": "https://localhost:8080/"
        },
        "outputId": "02a55253-5f53-4095-9a46-ef7b1e9573a0"
      },
      "source": [
        "print(f'scalar dim: {scalar.ndim}')\n",
        "print(f'vector dim: {vector.ndim}')\n",
        "print(f'matrix dim: {matrix.ndim}')\n",
        "print(f'tensor dim: {tensor.ndim}')"
      ],
      "execution_count": 6,
      "outputs": [
        {
          "output_type": "stream",
          "text": [
            "scalar dim: 0\n",
            "vector dim: 1\n",
            "matrix dim: 2\n",
            "tensor dim: 3\n"
          ],
          "name": "stdout"
        }
      ]
    },
    {
      "cell_type": "markdown",
      "metadata": {
        "id": "Pv262m62pOUj"
      },
      "source": [
        "## 1. Tensors with `tf.Variable`\n",
        "\n",
        "They can be changed using `.assign`"
      ]
    },
    {
      "cell_type": "code",
      "metadata": {
        "id": "wruFOV68osok",
        "colab": {
          "base_uri": "https://localhost:8080/"
        },
        "outputId": "66aaf3e1-8660-4600-a666-621edb09226f"
      },
      "source": [
        "changeable_tensor = tf.Variable([10,7])\n",
        "unchangeble_twnsor = tf.constant([10,7])\n",
        "changeable_tensor,unchangeble_twnsor"
      ],
      "execution_count": 7,
      "outputs": [
        {
          "output_type": "execute_result",
          "data": {
            "text/plain": [
              "(<tf.Variable 'Variable:0' shape=(2,) dtype=int32, numpy=array([10,  7], dtype=int32)>,\n",
              " <tf.Tensor: shape=(2,), dtype=int32, numpy=array([10,  7], dtype=int32)>)"
            ]
          },
          "metadata": {
            "tags": []
          },
          "execution_count": 7
        }
      ]
    },
    {
      "cell_type": "code",
      "metadata": {
        "colab": {
          "base_uri": "https://localhost:8080/"
        },
        "id": "vsGqg-4tpqhR",
        "outputId": "92e37509-9df0-469b-9af7-ba0addf71cc0"
      },
      "source": [
        "changeable_tensor[0].assign(2)\n",
        "changeable_tensor"
      ],
      "execution_count": 8,
      "outputs": [
        {
          "output_type": "execute_result",
          "data": {
            "text/plain": [
              "<tf.Variable 'Variable:0' shape=(2,) dtype=int32, numpy=array([2, 7], dtype=int32)>"
            ]
          },
          "metadata": {
            "tags": []
          },
          "execution_count": 8
        }
      ]
    },
    {
      "cell_type": "markdown",
      "metadata": {
        "id": "wi38xQ80sH6U"
      },
      "source": [
        "## 2. Creating Random Tensors - `tf.random.Generator`\n",
        "\n",
        "Random tensors are tensors of some arbitrary size which contain random numbers."
      ]
    },
    {
      "cell_type": "code",
      "metadata": {
        "colab": {
          "base_uri": "https://localhost:8080/"
        },
        "id": "rRtJ-e8HqeNh",
        "outputId": "846eaa40-469f-4c23-88ed-e0fa814d4d13"
      },
      "source": [
        "random_1 = tf.random.Generator.from_seed(42)\n",
        "random_1 = random_1.normal(shape=(3,2,1))\n",
        "\n",
        "random_2 = tf.random.Generator.from_seed(42)\n",
        "random_2 = random_2.normal(shape = (3,2,1))\n",
        "random_1, random_2"
      ],
      "execution_count": 9,
      "outputs": [
        {
          "output_type": "execute_result",
          "data": {
            "text/plain": [
              "(<tf.Tensor: shape=(3, 2, 1), dtype=float32, numpy=\n",
              " array([[[-0.7565803 ],\n",
              "         [-0.06854702]],\n",
              " \n",
              "        [[ 0.07595026],\n",
              "         [-1.2573844 ]],\n",
              " \n",
              "        [[-0.23193763],\n",
              "         [-1.8107855 ]]], dtype=float32)>,\n",
              " <tf.Tensor: shape=(3, 2, 1), dtype=float32, numpy=\n",
              " array([[[-0.7565803 ],\n",
              "         [-0.06854702]],\n",
              " \n",
              "        [[ 0.07595026],\n",
              "         [-1.2573844 ]],\n",
              " \n",
              "        [[-0.23193763],\n",
              "         [-1.8107855 ]]], dtype=float32)>)"
            ]
          },
          "metadata": {
            "tags": []
          },
          "execution_count": 9
        }
      ]
    },
    {
      "cell_type": "markdown",
      "metadata": {
        "id": "LHpZFVNe16nM"
      },
      "source": [
        "## 3. Shuffle the Order of a Tensor\n",
        "\n",
        "`tf.random.shuffle`: shuffles the tensor along its first dimension.\n",
        "\n",
        "If both the global and the operation seed are set: Both seeds are used in conjunction to determine the random sequence."
      ]
    },
    {
      "cell_type": "code",
      "metadata": {
        "colab": {
          "base_uri": "https://localhost:8080/"
        },
        "id": "dNd7y74eyiIm",
        "outputId": "e1956739-20ac-4d4c-b05d-d6ef0351b728"
      },
      "source": [
        "tf.random.shuffle(random_1, seed = 42)"
      ],
      "execution_count": 10,
      "outputs": [
        {
          "output_type": "execute_result",
          "data": {
            "text/plain": [
              "<tf.Tensor: shape=(3, 2, 1), dtype=float32, numpy=\n",
              "array([[[-0.23193763],\n",
              "        [-1.8107855 ]],\n",
              "\n",
              "       [[ 0.07595026],\n",
              "        [-1.2573844 ]],\n",
              "\n",
              "       [[-0.7565803 ],\n",
              "        [-0.06854702]]], dtype=float32)>"
            ]
          },
          "metadata": {
            "tags": []
          },
          "execution_count": 10
        }
      ]
    },
    {
      "cell_type": "code",
      "metadata": {
        "colab": {
          "base_uri": "https://localhost:8080/"
        },
        "id": "IiqN2KmU2pK1",
        "outputId": "8c1dc0f5-3ce7-4df8-9be1-07a23cf79e33"
      },
      "source": [
        "tf.random.set_seed(4)\n",
        "tf.random.shuffle(random_1)"
      ],
      "execution_count": 11,
      "outputs": [
        {
          "output_type": "execute_result",
          "data": {
            "text/plain": [
              "<tf.Tensor: shape=(3, 2, 1), dtype=float32, numpy=\n",
              "array([[[-0.7565803 ],\n",
              "        [-0.06854702]],\n",
              "\n",
              "       [[ 0.07595026],\n",
              "        [-1.2573844 ]],\n",
              "\n",
              "       [[-0.23193763],\n",
              "        [-1.8107855 ]]], dtype=float32)>"
            ]
          },
          "metadata": {
            "tags": []
          },
          "execution_count": 11
        }
      ]
    },
    {
      "cell_type": "markdown",
      "metadata": {
        "id": "gyee6bB44neT"
      },
      "source": [
        "## 4. Tensors and Numpy Arrays\n",
        "\n",
        "The main difference between them is that tensors can be run on GPU, so, it's much faster."
      ]
    },
    {
      "cell_type": "code",
      "metadata": {
        "colab": {
          "base_uri": "https://localhost:8080/"
        },
        "id": "AkoJS1JS4ihO",
        "outputId": "6ef2e52f-6bf5-4040-de4d-b3f9f681e695"
      },
      "source": [
        "# tensor of ones\n",
        "tf.ones([2,2])"
      ],
      "execution_count": 12,
      "outputs": [
        {
          "output_type": "execute_result",
          "data": {
            "text/plain": [
              "<tf.Tensor: shape=(2, 2), dtype=float32, numpy=\n",
              "array([[1., 1.],\n",
              "       [1., 1.]], dtype=float32)>"
            ]
          },
          "metadata": {
            "tags": []
          },
          "execution_count": 12
        }
      ]
    },
    {
      "cell_type": "code",
      "metadata": {
        "colab": {
          "base_uri": "https://localhost:8080/"
        },
        "id": "7JVwXlDE39WJ",
        "outputId": "a9e52e8d-3975-441d-9397-6aaff475ab4d"
      },
      "source": [
        "# all zeroes\n",
        "tf.zeros([2,2])"
      ],
      "execution_count": 13,
      "outputs": [
        {
          "output_type": "execute_result",
          "data": {
            "text/plain": [
              "<tf.Tensor: shape=(2, 2), dtype=float32, numpy=\n",
              "array([[0., 0.],\n",
              "       [0., 0.]], dtype=float32)>"
            ]
          },
          "metadata": {
            "tags": []
          },
          "execution_count": 13
        }
      ]
    },
    {
      "cell_type": "code",
      "metadata": {
        "colab": {
          "base_uri": "https://localhost:8080/"
        },
        "id": "wXKFWykf5-HQ",
        "outputId": "81a95714-3507-4ed4-cbe3-cfce24342b7b"
      },
      "source": [
        "tf.identity([2,2])"
      ],
      "execution_count": 14,
      "outputs": [
        {
          "output_type": "execute_result",
          "data": {
            "text/plain": [
              "<tf.Tensor: shape=(2,), dtype=int32, numpy=array([2, 2], dtype=int32)>"
            ]
          },
          "metadata": {
            "tags": []
          },
          "execution_count": 14
        }
      ]
    },
    {
      "cell_type": "code",
      "metadata": {
        "colab": {
          "base_uri": "https://localhost:8080/"
        },
        "id": "yZm0KTgb6WUR",
        "outputId": "76978603-165c-442a-c1ed-2f0b6518cd4c"
      },
      "source": [
        "# turning numpy arrays into tensors\n",
        "a = np.arange(0, 12)\n",
        "A = tf.constant(a, shape=(2,3,2))\n",
        "a, A"
      ],
      "execution_count": 15,
      "outputs": [
        {
          "output_type": "execute_result",
          "data": {
            "text/plain": [
              "(array([ 0,  1,  2,  3,  4,  5,  6,  7,  8,  9, 10, 11]),\n",
              " <tf.Tensor: shape=(2, 3, 2), dtype=int64, numpy=\n",
              " array([[[ 0,  1],\n",
              "         [ 2,  3],\n",
              "         [ 4,  5]],\n",
              " \n",
              "        [[ 6,  7],\n",
              "         [ 8,  9],\n",
              "         [10, 11]]])>)"
            ]
          },
          "metadata": {
            "tags": []
          },
          "execution_count": 15
        }
      ]
    },
    {
      "cell_type": "markdown",
      "metadata": {
        "id": "ki0nc5QUS7ny"
      },
      "source": [
        "## 5. Getting Information from Tensors\n",
        "\n",
        "- Shape: the length of each of the dimensions of a tensor [`tensor.shape`]\n",
        "- Rank: the number of tensor dimensions. [`tensor.ndim`]\n",
        "    - scalar -> rank 0\n",
        "    - vector -> rank 1\n",
        "    - matrix -> rank 2\n",
        "    - tensor -> tank n\n",
        "- Axis or Dimension: a particular dimension of a tensor [`tensor[0]`]\n",
        "-Size: the total number of items in the tensor [`tf.size(tensor)`]"
      ]
    },
    {
      "cell_type": "code",
      "metadata": {
        "colab": {
          "base_uri": "https://localhost:8080/"
        },
        "id": "hV--Pf3TSzW9",
        "outputId": "587d395f-672a-4c59-f460-029116f88ba2"
      },
      "source": [
        "rank_4 = tf.random.normal(shape=[2,2,4,5])\n",
        "rank_4"
      ],
      "execution_count": 16,
      "outputs": [
        {
          "output_type": "execute_result",
          "data": {
            "text/plain": [
              "<tf.Tensor: shape=(2, 2, 4, 5), dtype=float32, numpy=\n",
              "array([[[[ 0.05207799, -0.31717038, -1.0532024 ,  1.5985919 ,\n",
              "           0.01665103],\n",
              "         [-0.4303758 , -0.4309022 ,  1.9112922 ,  0.9449444 ,\n",
              "          -0.16886725],\n",
              "         [-2.1066759 ,  1.3980145 ,  0.44849458,  0.60391724,\n",
              "          -1.1754872 ],\n",
              "         [-0.74158764,  0.47670206, -0.7896117 , -0.95184433,\n",
              "           0.5406662 ]],\n",
              "\n",
              "        [[-0.7202453 , -0.818069  , -1.3891615 , -1.6312046 ,\n",
              "           1.7408795 ],\n",
              "         [-1.5092139 ,  1.5913574 ,  0.82941824,  1.4146508 ,\n",
              "          -0.61505896],\n",
              "         [-1.6049461 ,  0.5125865 , -2.6012802 , -0.38644642,\n",
              "           1.0358859 ],\n",
              "         [ 0.55974054,  0.17143811,  1.513643  , -1.1207025 ,\n",
              "           0.27213812]]],\n",
              "\n",
              "\n",
              "       [[[ 0.8913455 ,  1.0133594 , -0.30707034, -0.2589502 ,\n",
              "           1.6198119 ],\n",
              "         [ 0.24717619, -0.33695406, -0.45682883,  0.03019781,\n",
              "          -1.9771404 ],\n",
              "         [-1.559565  , -1.6705179 ,  0.85525334,  0.45735577,\n",
              "           0.6870165 ],\n",
              "         [ 2.477728  ,  0.39163536, -0.8526361 , -0.06644945,\n",
              "          -1.0145016 ]],\n",
              "\n",
              "        [[ 0.25852808,  0.90809107,  0.76973355,  0.770668  ,\n",
              "           0.2766915 ],\n",
              "         [ 0.44313943, -0.8858351 , -0.2969878 ,  1.2576195 ,\n",
              "           0.6781224 ],\n",
              "         [-0.5488623 , -1.7944666 , -0.23308043, -1.0523692 ,\n",
              "           0.39135298],\n",
              "         [-0.00738568, -1.5440998 ,  0.7599159 , -0.06236046,\n",
              "          -0.827214  ]]]], dtype=float32)>"
            ]
          },
          "metadata": {
            "tags": []
          },
          "execution_count": 16
        }
      ]
    },
    {
      "cell_type": "code",
      "metadata": {
        "colab": {
          "base_uri": "https://localhost:8080/"
        },
        "id": "IbMEjTz-U8Px",
        "outputId": "ab2112fb-571a-41cd-a103-db7a74ee4759"
      },
      "source": [
        "rank_4.shape, rank_4.ndim, tf.size(rank_4).numpy()"
      ],
      "execution_count": 17,
      "outputs": [
        {
          "output_type": "execute_result",
          "data": {
            "text/plain": [
              "(TensorShape([2, 2, 4, 5]), 4, 80)"
            ]
          },
          "metadata": {
            "tags": []
          },
          "execution_count": 17
        }
      ]
    },
    {
      "cell_type": "markdown",
      "metadata": {
        "id": "v5X_Jd6xXVmO"
      },
      "source": [
        "## 6. Indexing Tensors\n",
        "\n",
        "The indexing works just like in python lists."
      ]
    },
    {
      "cell_type": "code",
      "metadata": {
        "colab": {
          "base_uri": "https://localhost:8080/"
        },
        "id": "iquLLjLSXYJR",
        "outputId": "98402336-64a1-4659-f535-0a38abbc3a99"
      },
      "source": [
        "# first 2 elements of each dimensions\n",
        "rank_4[:2, :2, :2, :3]"
      ],
      "execution_count": 18,
      "outputs": [
        {
          "output_type": "execute_result",
          "data": {
            "text/plain": [
              "<tf.Tensor: shape=(2, 2, 2, 3), dtype=float32, numpy=\n",
              "array([[[[ 0.05207799, -0.31717038, -1.0532024 ],\n",
              "         [-0.4303758 , -0.4309022 ,  1.9112922 ]],\n",
              "\n",
              "        [[-0.7202453 , -0.818069  , -1.3891615 ],\n",
              "         [-1.5092139 ,  1.5913574 ,  0.82941824]]],\n",
              "\n",
              "\n",
              "       [[[ 0.8913455 ,  1.0133594 , -0.30707034],\n",
              "         [ 0.24717619, -0.33695406, -0.45682883]],\n",
              "\n",
              "        [[ 0.25852808,  0.90809107,  0.76973355],\n",
              "         [ 0.44313943, -0.8858351 , -0.2969878 ]]]], dtype=float32)>"
            ]
          },
          "metadata": {
            "tags": []
          },
          "execution_count": 18
        }
      ]
    },
    {
      "cell_type": "code",
      "metadata": {
        "colab": {
          "base_uri": "https://localhost:8080/"
        },
        "id": "SyTApV2MXuQr",
        "outputId": "2e3d3dd0-3a76-41ef-d211-84edcfe3d583"
      },
      "source": [
        "# get the first elements from each dimension from each index except for the final one\n",
        "rank_4[1:, :1, :1, :]"
      ],
      "execution_count": 19,
      "outputs": [
        {
          "output_type": "execute_result",
          "data": {
            "text/plain": [
              "<tf.Tensor: shape=(1, 1, 1, 5), dtype=float32, numpy=\n",
              "array([[[[ 0.8913455 ,  1.0133594 , -0.30707034, -0.2589502 ,\n",
              "           1.6198119 ]]]], dtype=float32)>"
            ]
          },
          "metadata": {
            "tags": []
          },
          "execution_count": 19
        }
      ]
    },
    {
      "cell_type": "code",
      "metadata": {
        "colab": {
          "base_uri": "https://localhost:8080/"
        },
        "id": "601O0Ga-ZrWh",
        "outputId": "36efa65b-1c92-441c-f8f2-1a8310bcb7b8"
      },
      "source": [
        "rank_2 = tf.random.uniform(shape=[2,2])\n",
        "rank_2"
      ],
      "execution_count": 20,
      "outputs": [
        {
          "output_type": "execute_result",
          "data": {
            "text/plain": [
              "<tf.Tensor: shape=(2, 2), dtype=float32, numpy=\n",
              "array([[0.546034  , 0.7847378 ],\n",
              "       [0.04293239, 0.5031413 ]], dtype=float32)>"
            ]
          },
          "metadata": {
            "tags": []
          },
          "execution_count": 20
        }
      ]
    },
    {
      "cell_type": "code",
      "metadata": {
        "colab": {
          "base_uri": "https://localhost:8080/"
        },
        "id": "ahy_dj73ai83",
        "outputId": "201f629b-340d-45b6-a4d2-5299b3f41a46"
      },
      "source": [
        "# get the last item of each row\n",
        "rank_2[:, -1]"
      ],
      "execution_count": 21,
      "outputs": [
        {
          "output_type": "execute_result",
          "data": {
            "text/plain": [
              "<tf.Tensor: shape=(2,), dtype=float32, numpy=array([0.7847378, 0.5031413], dtype=float32)>"
            ]
          },
          "metadata": {
            "tags": []
          },
          "execution_count": 21
        }
      ]
    },
    {
      "cell_type": "code",
      "metadata": {
        "colab": {
          "base_uri": "https://localhost:8080/"
        },
        "id": "ICSm3-06ao45",
        "outputId": "f026e567-630a-4912-f8b0-b057e47f7939"
      },
      "source": [
        "# adding in extra dimension\n",
        "rank_3 = rank_2[..., tf.newaxis]\n",
        "rank_3"
      ],
      "execution_count": 22,
      "outputs": [
        {
          "output_type": "execute_result",
          "data": {
            "text/plain": [
              "<tf.Tensor: shape=(2, 2, 1), dtype=float32, numpy=\n",
              "array([[[0.546034  ],\n",
              "        [0.7847378 ]],\n",
              "\n",
              "       [[0.04293239],\n",
              "        [0.5031413 ]]], dtype=float32)>"
            ]
          },
          "metadata": {
            "tags": []
          },
          "execution_count": 22
        }
      ]
    },
    {
      "cell_type": "code",
      "metadata": {
        "colab": {
          "base_uri": "https://localhost:8080/"
        },
        "id": "tgRNrdgMbUiA",
        "outputId": "20785218-a45d-46f4-caba-c682c79b911c"
      },
      "source": [
        "rank_2[:, tf.newaxis, :]"
      ],
      "execution_count": 23,
      "outputs": [
        {
          "output_type": "execute_result",
          "data": {
            "text/plain": [
              "<tf.Tensor: shape=(2, 1, 2), dtype=float32, numpy=\n",
              "array([[[0.546034  , 0.7847378 ]],\n",
              "\n",
              "       [[0.04293239, 0.5031413 ]]], dtype=float32)>"
            ]
          },
          "metadata": {
            "tags": []
          },
          "execution_count": 23
        }
      ]
    },
    {
      "cell_type": "code",
      "metadata": {
        "colab": {
          "base_uri": "https://localhost:8080/"
        },
        "id": "XaDNaIqsbVa3",
        "outputId": "56c2d280-7eb6-474a-e6b2-361c5d8f6afb"
      },
      "source": [
        "tf.expand_dims(rank_2, -1)"
      ],
      "execution_count": 24,
      "outputs": [
        {
          "output_type": "execute_result",
          "data": {
            "text/plain": [
              "<tf.Tensor: shape=(2, 2, 1), dtype=float32, numpy=\n",
              "array([[[0.546034  ],\n",
              "        [0.7847378 ]],\n",
              "\n",
              "       [[0.04293239],\n",
              "        [0.5031413 ]]], dtype=float32)>"
            ]
          },
          "metadata": {
            "tags": []
          },
          "execution_count": 24
        }
      ]
    },
    {
      "cell_type": "markdown",
      "metadata": {
        "id": "68p5-AqN8D0S"
      },
      "source": [
        "## 7. Manipulating Tensors"
      ]
    },
    {
      "cell_type": "markdown",
      "metadata": {
        "id": "ZtltojRw8RL5"
      },
      "source": [
        "### Basic Operations\n",
        "+, -, *, /"
      ]
    },
    {
      "cell_type": "code",
      "metadata": {
        "id": "8xssmXticJtg",
        "colab": {
          "base_uri": "https://localhost:8080/"
        },
        "outputId": "7dab9175-829a-4480-90e1-ee28f76c8580"
      },
      "source": [
        "tensor = tf.constant([[1,2],\n",
        "                      [3,4]]) \n",
        "tensor + 10"
      ],
      "execution_count": 25,
      "outputs": [
        {
          "output_type": "execute_result",
          "data": {
            "text/plain": [
              "<tf.Tensor: shape=(2, 2), dtype=int32, numpy=\n",
              "array([[11, 12],\n",
              "       [13, 14]], dtype=int32)>"
            ]
          },
          "metadata": {
            "tags": []
          },
          "execution_count": 25
        }
      ]
    },
    {
      "cell_type": "code",
      "metadata": {
        "colab": {
          "base_uri": "https://localhost:8080/"
        },
        "id": "F6EeJqUK8cEE",
        "outputId": "a3d41863-bc09-4057-a50f-1e665d6db7d4"
      },
      "source": [
        "tensor * 10"
      ],
      "execution_count": 26,
      "outputs": [
        {
          "output_type": "execute_result",
          "data": {
            "text/plain": [
              "<tf.Tensor: shape=(2, 2), dtype=int32, numpy=\n",
              "array([[10, 20],\n",
              "       [30, 40]], dtype=int32)>"
            ]
          },
          "metadata": {
            "tags": []
          },
          "execution_count": 26
        }
      ]
    },
    {
      "cell_type": "code",
      "metadata": {
        "colab": {
          "base_uri": "https://localhost:8080/"
        },
        "id": "HBHH-UnV8pU6",
        "outputId": "bb0904e0-65e0-47bf-9cfd-d344c2181026"
      },
      "source": [
        "tensor / 10"
      ],
      "execution_count": 27,
      "outputs": [
        {
          "output_type": "execute_result",
          "data": {
            "text/plain": [
              "<tf.Tensor: shape=(2, 2), dtype=float64, numpy=\n",
              "array([[0.1, 0.2],\n",
              "       [0.3, 0.4]])>"
            ]
          },
          "metadata": {
            "tags": []
          },
          "execution_count": 27
        }
      ]
    },
    {
      "cell_type": "code",
      "metadata": {
        "colab": {
          "base_uri": "https://localhost:8080/"
        },
        "id": "_BqsaXKe8sOo",
        "outputId": "9d6c0dae-7210-4fae-b2d8-d29bb8e971ee"
      },
      "source": [
        "# using Tensorflow builtin functions\n",
        "tf.math.multiply(tensor, 10)"
      ],
      "execution_count": 28,
      "outputs": [
        {
          "output_type": "execute_result",
          "data": {
            "text/plain": [
              "<tf.Tensor: shape=(2, 2), dtype=int32, numpy=\n",
              "array([[10, 20],\n",
              "       [30, 40]], dtype=int32)>"
            ]
          },
          "metadata": {
            "tags": []
          },
          "execution_count": 28
        }
      ]
    },
    {
      "cell_type": "code",
      "metadata": {
        "colab": {
          "base_uri": "https://localhost:8080/"
        },
        "id": "P3q03TZk83Ur",
        "outputId": "47b57496-6af5-4d15-db00-7da3d707b2b9"
      },
      "source": [
        "tf.math.divide(tensor, 2)"
      ],
      "execution_count": 29,
      "outputs": [
        {
          "output_type": "execute_result",
          "data": {
            "text/plain": [
              "<tf.Tensor: shape=(2, 2), dtype=float64, numpy=\n",
              "array([[0.5, 1. ],\n",
              "       [1.5, 2. ]])>"
            ]
          },
          "metadata": {
            "tags": []
          },
          "execution_count": 29
        }
      ]
    },
    {
      "cell_type": "markdown",
      "metadata": {
        "id": "vd_y-hOO9Hjx"
      },
      "source": [
        "## 8. Matrix Multipllication"
      ]
    },
    {
      "cell_type": "code",
      "metadata": {
        "colab": {
          "base_uri": "https://localhost:8080/"
        },
        "id": "IKsskVw79GGE",
        "outputId": "d2673bd5-b6c7-42a7-9eb5-dba6153b4a87"
      },
      "source": [
        "tf.matmul(tensor, tensor)"
      ],
      "execution_count": 30,
      "outputs": [
        {
          "output_type": "execute_result",
          "data": {
            "text/plain": [
              "<tf.Tensor: shape=(2, 2), dtype=int32, numpy=\n",
              "array([[ 7, 10],\n",
              "       [15, 22]], dtype=int32)>"
            ]
          },
          "metadata": {
            "tags": []
          },
          "execution_count": 30
        }
      ]
    },
    {
      "cell_type": "code",
      "metadata": {
        "colab": {
          "base_uri": "https://localhost:8080/"
        },
        "id": "HkmTB9Lv-CHs",
        "outputId": "4335d99d-d5c3-413a-be2e-d7c3946c8fea"
      },
      "source": [
        "# with python\n",
        "tensor@tensor"
      ],
      "execution_count": 31,
      "outputs": [
        {
          "output_type": "execute_result",
          "data": {
            "text/plain": [
              "<tf.Tensor: shape=(2, 2), dtype=int32, numpy=\n",
              "array([[ 7, 10],\n",
              "       [15, 22]], dtype=int32)>"
            ]
          },
          "metadata": {
            "tags": []
          },
          "execution_count": 31
        }
      ]
    },
    {
      "cell_type": "code",
      "metadata": {
        "colab": {
          "base_uri": "https://localhost:8080/"
        },
        "id": "DGDqz2RU-JFr",
        "outputId": "f9eba3fe-0313-469f-d98d-15fec3828fd8"
      },
      "source": [
        "X = tf.constant([[1,2,3],\n",
        "                 [1,2,3]])\n",
        "tf.matmul(X, tf.transpose(X))"
      ],
      "execution_count": 32,
      "outputs": [
        {
          "output_type": "execute_result",
          "data": {
            "text/plain": [
              "<tf.Tensor: shape=(2, 2), dtype=int32, numpy=\n",
              "array([[14, 14],\n",
              "       [14, 14]], dtype=int32)>"
            ]
          },
          "metadata": {
            "tags": []
          },
          "execution_count": 32
        }
      ]
    },
    {
      "cell_type": "code",
      "metadata": {
        "colab": {
          "base_uri": "https://localhost:8080/"
        },
        "id": "xcvjoyGj_qFa",
        "outputId": "fdab10a8-a5a5-4440-e513-a93ad9be9bad"
      },
      "source": [
        "tf.tensordot(X, tf.transpose(X), axes =1)"
      ],
      "execution_count": 33,
      "outputs": [
        {
          "output_type": "execute_result",
          "data": {
            "text/plain": [
              "<tf.Tensor: shape=(2, 2), dtype=int32, numpy=\n",
              "array([[14, 14],\n",
              "       [14, 14]], dtype=int32)>"
            ]
          },
          "metadata": {
            "tags": []
          },
          "execution_count": 33
        }
      ]
    },
    {
      "cell_type": "code",
      "metadata": {
        "colab": {
          "base_uri": "https://localhost:8080/"
        },
        "id": "o-ODuSAMCRoR",
        "outputId": "d4a67ca0-83f9-46c7-cd03-894142950551"
      },
      "source": [
        "tf.matmul(X, tf.reshape(X,  shape=(3,2)))"
      ],
      "execution_count": 34,
      "outputs": [
        {
          "output_type": "execute_result",
          "data": {
            "text/plain": [
              "<tf.Tensor: shape=(2, 2), dtype=int32, numpy=\n",
              "array([[13, 13],\n",
              "       [13, 13]], dtype=int32)>"
            ]
          },
          "metadata": {
            "tags": []
          },
          "execution_count": 34
        }
      ]
    },
    {
      "cell_type": "code",
      "metadata": {
        "colab": {
          "base_uri": "https://localhost:8080/"
        },
        "id": "Pu-MxWFRBAom",
        "outputId": "aaa155f4-52b4-462a-9d01-fc1a14e68d07"
      },
      "source": [
        "tf.reshape(X,  shape=(3,2)), tf.transpose(X)"
      ],
      "execution_count": 35,
      "outputs": [
        {
          "output_type": "execute_result",
          "data": {
            "text/plain": [
              "(<tf.Tensor: shape=(3, 2), dtype=int32, numpy=\n",
              " array([[1, 2],\n",
              "        [3, 1],\n",
              "        [2, 3]], dtype=int32)>, <tf.Tensor: shape=(3, 2), dtype=int32, numpy=\n",
              " array([[1, 1],\n",
              "        [2, 2],\n",
              "        [3, 3]], dtype=int32)>)"
            ]
          },
          "metadata": {
            "tags": []
          },
          "execution_count": 35
        }
      ]
    },
    {
      "cell_type": "markdown",
      "metadata": {
        "id": "PVqXn6mGDk02"
      },
      "source": [
        "## 9. Changing Datatype of a Tensor"
      ]
    },
    {
      "cell_type": "markdown",
      "metadata": {
        "id": "Tfob5d5FFG6E"
      },
      "source": [
        "If I create a tensor containing floats inside, its type will be float. The same happens to integer."
      ]
    },
    {
      "cell_type": "code",
      "metadata": {
        "colab": {
          "base_uri": "https://localhost:8080/"
        },
        "id": "Kwk8XlqNCsF-",
        "outputId": "38891ddb-f93a-4c76-e161-64f605f8c3de"
      },
      "source": [
        "tensor1 = tf.constant([2.1, 2.5, 2.6])\n",
        "tensor2 = tf.constant([1, 5, 6])\n",
        "tensor1.dtype, tensor2.dtype"
      ],
      "execution_count": 36,
      "outputs": [
        {
          "output_type": "execute_result",
          "data": {
            "text/plain": [
              "(tf.float32, tf.int32)"
            ]
          },
          "metadata": {
            "tags": []
          },
          "execution_count": 36
        }
      ]
    },
    {
      "cell_type": "code",
      "metadata": {
        "colab": {
          "base_uri": "https://localhost:8080/"
        },
        "id": "eAYWXzD5FAtv",
        "outputId": "9fe4c99a-ef8a-46ac-92bb-577297863257"
      },
      "source": [
        "# reduce precision: float32 to float16\n",
        "tensor1 = tf.cast(tensor1, dtype = tf.float16)\n",
        "tensor2 = tf.cast(tensor2, dtype = tf.int16)\n",
        "\n",
        "tensor1.dtype, tensor2.dtype"
      ],
      "execution_count": 37,
      "outputs": [
        {
          "output_type": "execute_result",
          "data": {
            "text/plain": [
              "(tf.float16, tf.int16)"
            ]
          },
          "metadata": {
            "tags": []
          },
          "execution_count": 37
        }
      ]
    },
    {
      "cell_type": "markdown",
      "metadata": {
        "id": "_kI73PJBGIin"
      },
      "source": [
        "## 10. Aggreagating Tensors\n",
        "\n",
        "Aggreagating tensors = condensing them from multiple values down to a smaller amount of values."
      ]
    },
    {
      "cell_type": "code",
      "metadata": {
        "id": "vdwhyvy-FyNz",
        "colab": {
          "base_uri": "https://localhost:8080/"
        },
        "outputId": "d0095471-c46c-47e0-9374-60e558812457"
      },
      "source": [
        "# absolute values\n",
        "## return int or float depending on the data type.\n",
        "tensor = tf.constant([-1,1])\n",
        "tf.abs(tensor)"
      ],
      "execution_count": 39,
      "outputs": [
        {
          "output_type": "execute_result",
          "data": {
            "text/plain": [
              "<tf.Tensor: shape=(2,), dtype=int32, numpy=array([1, 1], dtype=int32)>"
            ]
          },
          "metadata": {
            "tags": []
          },
          "execution_count": 39
        }
      ]
    },
    {
      "cell_type": "code",
      "metadata": {
        "colab": {
          "base_uri": "https://localhost:8080/"
        },
        "id": "Kz5mxnjBq4-a",
        "outputId": "33732720-af63-47fe-8345-e422b3d951a5"
      },
      "source": [
        "tensor = tf.constant(np.random.randint(0,100, size = 50))\n",
        "tensor"
      ],
      "execution_count": 43,
      "outputs": [
        {
          "output_type": "execute_result",
          "data": {
            "text/plain": [
              "<tf.Tensor: shape=(50,), dtype=int64, numpy=\n",
              "array([80, 26, 87, 96, 35, 11, 82, 98, 44, 75, 79, 66, 38, 12, 35, 16,  2,\n",
              "       24, 48, 51, 48, 19, 80, 34, 84, 35, 79, 43, 94, 89, 27, 19, 79, 78,\n",
              "        6, 42, 76, 30, 68, 19, 34, 65, 85, 93, 33, 40, 61, 16, 72, 59])>"
            ]
          },
          "metadata": {
            "tags": []
          },
          "execution_count": 43
        }
      ]
    },
    {
      "cell_type": "code",
      "metadata": {
        "colab": {
          "base_uri": "https://localhost:8080/"
        },
        "id": "y3b3TblLraMh",
        "outputId": "2c31cfc9-8efb-4d0d-f5b1-22420475494b"
      },
      "source": [
        "tf.size(tensor), tensor.shape, tensor.ndim"
      ],
      "execution_count": 45,
      "outputs": [
        {
          "output_type": "execute_result",
          "data": {
            "text/plain": [
              "(<tf.Tensor: shape=(), dtype=int32, numpy=50>, TensorShape([50]), 1)"
            ]
          },
          "metadata": {
            "tags": []
          },
          "execution_count": 45
        }
      ]
    },
    {
      "cell_type": "code",
      "metadata": {
        "colab": {
          "base_uri": "https://localhost:8080/"
        },
        "id": "wd1V2sB8rvTv",
        "outputId": "21a3fa37-d2f0-4b1d-9c00-e99412488703"
      },
      "source": [
        "# minimum\n",
        "tf.reduce_min(tensor), np.min(tensor)"
      ],
      "execution_count": 47,
      "outputs": [
        {
          "output_type": "execute_result",
          "data": {
            "text/plain": [
              "(<tf.Tensor: shape=(), dtype=int64, numpy=2>, 2)"
            ]
          },
          "metadata": {
            "tags": []
          },
          "execution_count": 47
        }
      ]
    },
    {
      "cell_type": "code",
      "metadata": {
        "colab": {
          "base_uri": "https://localhost:8080/"
        },
        "id": "HCMslAOGr7Bn",
        "outputId": "8f6cef39-41bb-47aa-a167-8d995e9ebac5"
      },
      "source": [
        "# maximum\n",
        "tf.reduce_max(tensor), np.max(tensor)"
      ],
      "execution_count": 48,
      "outputs": [
        {
          "output_type": "execute_result",
          "data": {
            "text/plain": [
              "(<tf.Tensor: shape=(), dtype=int64, numpy=98>, 98)"
            ]
          },
          "metadata": {
            "tags": []
          },
          "execution_count": 48
        }
      ]
    },
    {
      "cell_type": "code",
      "metadata": {
        "colab": {
          "base_uri": "https://localhost:8080/"
        },
        "id": "tuT9jFcQsPDi",
        "outputId": "b835cd53-88ce-44c1-ae0d-5f6a0bebec88"
      },
      "source": [
        "# mean\n",
        "tf.reduce_mean(tf.cast(tensor, dtype = tf.float32)), np.mean(tensor)"
      ],
      "execution_count": 50,
      "outputs": [
        {
          "output_type": "execute_result",
          "data": {
            "text/plain": [
              "(<tf.Tensor: shape=(), dtype=float32, numpy=52.24>, 52.24)"
            ]
          },
          "metadata": {
            "tags": []
          },
          "execution_count": 50
        }
      ]
    },
    {
      "cell_type": "markdown",
      "metadata": {
        "id": "4kAp8dpQsksw"
      },
      "source": [
        "We had to convert its type to float because tf.reduce_mean returns the same type. So, it was returning the mean as integer."
      ]
    },
    {
      "cell_type": "code",
      "metadata": {
        "colab": {
          "base_uri": "https://localhost:8080/"
        },
        "id": "-Cx_vK4SsVsW",
        "outputId": "eb4a4fd4-30e4-4cfa-c7b5-6971d978af4a"
      },
      "source": [
        "# sum\n",
        "tf.reduce_sum(tensor)"
      ],
      "execution_count": 51,
      "outputs": [
        {
          "output_type": "execute_result",
          "data": {
            "text/plain": [
              "<tf.Tensor: shape=(), dtype=int64, numpy=2612>"
            ]
          },
          "metadata": {
            "tags": []
          },
          "execution_count": 51
        }
      ]
    },
    {
      "cell_type": "code",
      "metadata": {
        "colab": {
          "base_uri": "https://localhost:8080/"
        },
        "id": "FSjEy2Pus0pR",
        "outputId": "a37e7eaf-1564-47c6-e132-66c637b953a0"
      },
      "source": [
        "# standard deviation\n",
        "tf.math.reduce_std(tf.cast(tensor, dtype = tf.float32))"
      ],
      "execution_count": 59,
      "outputs": [
        {
          "output_type": "execute_result",
          "data": {
            "text/plain": [
              "<tf.Tensor: shape=(), dtype=float32, numpy=27.78745>"
            ]
          },
          "metadata": {
            "tags": []
          },
          "execution_count": 59
        }
      ]
    },
    {
      "cell_type": "code",
      "metadata": {
        "colab": {
          "base_uri": "https://localhost:8080/"
        },
        "id": "kJMFejHfs8gh",
        "outputId": "f70c5936-49be-4659-cc87-67029f9ce671"
      },
      "source": [
        "# variance way 1\n",
        "import tensorflow_probability as tfp\n",
        "tfp.stats.variance(tf.cast(tensor, dtype = tf.float32))"
      ],
      "execution_count": 66,
      "outputs": [
        {
          "output_type": "execute_result",
          "data": {
            "text/plain": [
              "<tf.Tensor: shape=(), dtype=float32, numpy=772.1424>"
            ]
          },
          "metadata": {
            "tags": []
          },
          "execution_count": 66
        }
      ]
    },
    {
      "cell_type": "code",
      "metadata": {
        "colab": {
          "base_uri": "https://localhost:8080/"
        },
        "id": "7k-tfkQqvGW1",
        "outputId": "63070b35-d859-428e-a6e0-4273815f27e7"
      },
      "source": [
        "# variance way 2\n",
        "tf.math.reduce_variance(tf.cast(tensor, dtype = tf.float32))"
      ],
      "execution_count": 68,
      "outputs": [
        {
          "output_type": "execute_result",
          "data": {
            "text/plain": [
              "<tf.Tensor: shape=(), dtype=float32, numpy=772.1424>"
            ]
          },
          "metadata": {
            "tags": []
          },
          "execution_count": 68
        }
      ]
    },
    {
      "cell_type": "markdown",
      "metadata": {
        "id": "agRHuBwUu3Q9"
      },
      "source": [
        "## 11. Find the positional maxumim and minimum\n",
        "\n",
        "Usefull in NN probability output.\n",
        "At which index of the tensor does the maximum/minimum value occur."
      ]
    },
    {
      "cell_type": "code",
      "metadata": {
        "colab": {
          "base_uri": "https://localhost:8080/"
        },
        "id": "v3l6zIeJtUJH",
        "outputId": "03fa5b58-e2ee-42dc-d475-dfd650519be5"
      },
      "source": [
        "tf.random.set_seed(42)\n",
        "T = tf.random.uniform(shape=[50])\n",
        "T"
      ],
      "execution_count": 70,
      "outputs": [
        {
          "output_type": "execute_result",
          "data": {
            "text/plain": [
              "<tf.Tensor: shape=(50,), dtype=float32, numpy=\n",
              "array([0.6645621 , 0.44100678, 0.3528825 , 0.46448255, 0.03366041,\n",
              "       0.68467236, 0.74011743, 0.8724445 , 0.22632635, 0.22319686,\n",
              "       0.3103881 , 0.7223358 , 0.13318717, 0.5480639 , 0.5746088 ,\n",
              "       0.8996835 , 0.00946367, 0.5212307 , 0.6345445 , 0.1993283 ,\n",
              "       0.72942245, 0.54583454, 0.10756552, 0.6767061 , 0.6602763 ,\n",
              "       0.33695042, 0.60141766, 0.21062577, 0.8527372 , 0.44062173,\n",
              "       0.9485276 , 0.23752594, 0.81179297, 0.5263394 , 0.494308  ,\n",
              "       0.21612847, 0.8457197 , 0.8718841 , 0.3083862 , 0.6868038 ,\n",
              "       0.23764038, 0.7817228 , 0.9671384 , 0.06870162, 0.79873943,\n",
              "       0.66028714, 0.5871513 , 0.16461694, 0.7381023 , 0.32054043],\n",
              "      dtype=float32)>"
            ]
          },
          "metadata": {
            "tags": []
          },
          "execution_count": 70
        }
      ]
    },
    {
      "cell_type": "code",
      "metadata": {
        "colab": {
          "base_uri": "https://localhost:8080/"
        },
        "id": "ugC99-dCwC4r",
        "outputId": "8ef3ef80-f30b-40c7-813c-ee5ec4440a2a"
      },
      "source": [
        "# finding the positional maximum\n",
        "tf.argmax(T)"
      ],
      "execution_count": 71,
      "outputs": [
        {
          "output_type": "execute_result",
          "data": {
            "text/plain": [
              "<tf.Tensor: shape=(), dtype=int64, numpy=42>"
            ]
          },
          "metadata": {
            "tags": []
          },
          "execution_count": 71
        }
      ]
    },
    {
      "cell_type": "code",
      "metadata": {
        "colab": {
          "base_uri": "https://localhost:8080/"
        },
        "id": "A3Qg0KhWwQf4",
        "outputId": "d1c86fec-f2e4-4ddf-e1fc-ff41982ff4af"
      },
      "source": [
        "# getting the argmax value\n",
        "T[tf.argmax(T)]"
      ],
      "execution_count": 73,
      "outputs": [
        {
          "output_type": "execute_result",
          "data": {
            "text/plain": [
              "<tf.Tensor: shape=(), dtype=float32, numpy=0.9671384>"
            ]
          },
          "metadata": {
            "tags": []
          },
          "execution_count": 73
        }
      ]
    },
    {
      "cell_type": "code",
      "metadata": {
        "colab": {
          "base_uri": "https://localhost:8080/"
        },
        "id": "3IPou6gcwMzo",
        "outputId": "623eff40-fe11-4273-8444-ddf9abe939b6"
      },
      "source": [
        "# finding the positional minimum\n",
        "tf.argmin(T)"
      ],
      "execution_count": 75,
      "outputs": [
        {
          "output_type": "execute_result",
          "data": {
            "text/plain": [
              "<tf.Tensor: shape=(), dtype=int64, numpy=16>"
            ]
          },
          "metadata": {
            "tags": []
          },
          "execution_count": 75
        }
      ]
    },
    {
      "cell_type": "code",
      "metadata": {
        "colab": {
          "base_uri": "https://localhost:8080/"
        },
        "id": "A-0Tu_FEwns7",
        "outputId": "67187599-6785-40f2-cef1-beae26b6e37c"
      },
      "source": [
        "T = tf.constant([[1,2],\n",
        "                 [3,4]])\n",
        "tf.argmax(T)"
      ],
      "execution_count": 76,
      "outputs": [
        {
          "output_type": "execute_result",
          "data": {
            "text/plain": [
              "<tf.Tensor: shape=(2,), dtype=int64, numpy=array([1, 1])>"
            ]
          },
          "metadata": {
            "tags": []
          },
          "execution_count": 76
        }
      ]
    },
    {
      "cell_type": "markdown",
      "metadata": {
        "id": "kt5MuO9jxB5n"
      },
      "source": [
        "## Squeezing a tensor\n",
        "\n",
        "It's just removing 1 dimensions "
      ]
    },
    {
      "cell_type": "code",
      "metadata": {
        "colab": {
          "base_uri": "https://localhost:8080/"
        },
        "id": "Bz8C0-RAw4HN",
        "outputId": "6636104b-e461-429e-c6ad-842ce3167918"
      },
      "source": [
        "T = tf.constant(tf.random.uniform(shape=[20]), shape=[1,1,1,1,20])\n",
        "T"
      ],
      "execution_count": 79,
      "outputs": [
        {
          "output_type": "execute_result",
          "data": {
            "text/plain": [
              "<tf.Tensor: shape=(1, 1, 1, 1, 20), dtype=float32, numpy=\n",
              "array([[[[[0.7413678 , 0.62854624, 0.01738465, 0.3431449 , 0.51063764,\n",
              "           0.3777541 , 0.07321596, 0.02137029, 0.2871771 , 0.4710616 ,\n",
              "           0.6936141 , 0.07321334, 0.93251204, 0.20843053, 0.70105827,\n",
              "           0.45856392, 0.8596262 , 0.92934334, 0.20291913, 0.76865506]]]]],\n",
              "      dtype=float32)>"
            ]
          },
          "metadata": {
            "tags": []
          },
          "execution_count": 79
        }
      ]
    },
    {
      "cell_type": "code",
      "metadata": {
        "colab": {
          "base_uri": "https://localhost:8080/"
        },
        "id": "Bx-DqRMYw8r0",
        "outputId": "349df886-b471-4684-9d6f-bd78fe2ff384"
      },
      "source": [
        "tf.squeeze(T), tf.squeeze(T).shape"
      ],
      "execution_count": 81,
      "outputs": [
        {
          "output_type": "execute_result",
          "data": {
            "text/plain": [
              "(<tf.Tensor: shape=(20,), dtype=float32, numpy=\n",
              " array([0.7413678 , 0.62854624, 0.01738465, 0.3431449 , 0.51063764,\n",
              "        0.3777541 , 0.07321596, 0.02137029, 0.2871771 , 0.4710616 ,\n",
              "        0.6936141 , 0.07321334, 0.93251204, 0.20843053, 0.70105827,\n",
              "        0.45856392, 0.8596262 , 0.92934334, 0.20291913, 0.76865506],\n",
              "       dtype=float32)>, TensorShape([20]))"
            ]
          },
          "metadata": {
            "tags": []
          },
          "execution_count": 81
        }
      ]
    },
    {
      "cell_type": "markdown",
      "metadata": {
        "id": "L95uRfHM8SmA"
      },
      "source": [
        "## 12. One-hot Encoding Tensors"
      ]
    },
    {
      "cell_type": "code",
      "metadata": {
        "colab": {
          "base_uri": "https://localhost:8080/"
        },
        "id": "kCmKMmchzIgL",
        "outputId": "4463108c-1be7-4ce2-8d8a-a43a0753ab10"
      },
      "source": [
        "indices = [0,1,2, 3]\n",
        "depth = 4\n",
        "\n",
        "tf.one_hot(indices, depth)"
      ],
      "execution_count": 85,
      "outputs": [
        {
          "output_type": "execute_result",
          "data": {
            "text/plain": [
              "<tf.Tensor: shape=(4, 4), dtype=float32, numpy=\n",
              "array([[1., 0., 0., 0.],\n",
              "       [0., 1., 0., 0.],\n",
              "       [0., 0., 1., 0.],\n",
              "       [0., 0., 0., 1.]], dtype=float32)>"
            ]
          },
          "metadata": {
            "tags": []
          },
          "execution_count": 85
        }
      ]
    },
    {
      "cell_type": "code",
      "metadata": {
        "colab": {
          "base_uri": "https://localhost:8080/"
        },
        "id": "VuwHZxnI8-aw",
        "outputId": "19d1c4e6-4f1e-4b91-9797-754b705cb491"
      },
      "source": [
        "tf.one_hot(indices, depth, on_value='yes', off_value='no')"
      ],
      "execution_count": 86,
      "outputs": [
        {
          "output_type": "execute_result",
          "data": {
            "text/plain": [
              "<tf.Tensor: shape=(4, 4), dtype=string, numpy=\n",
              "array([[b'yes', b'no', b'no', b'no'],\n",
              "       [b'no', b'yes', b'no', b'no'],\n",
              "       [b'no', b'no', b'yes', b'no'],\n",
              "       [b'no', b'no', b'no', b'yes']], dtype=object)>"
            ]
          },
          "metadata": {
            "tags": []
          },
          "execution_count": 86
        }
      ]
    },
    {
      "cell_type": "markdown",
      "metadata": {
        "id": "UNHRntQy-FPv"
      },
      "source": [
        "### 13. More Math"
      ]
    },
    {
      "cell_type": "code",
      "metadata": {
        "id": "fFfjSkNqC4mI"
      },
      "source": [
        "T = tf.constant([2,2,3,4 ], dtype= tf.float32)"
      ],
      "execution_count": 98,
      "outputs": []
    },
    {
      "cell_type": "code",
      "metadata": {
        "colab": {
          "base_uri": "https://localhost:8080/"
        },
        "id": "caL7pTH-EfMa",
        "outputId": "e48a5a96-c035-48dd-e4c6-c2ed51a4b349"
      },
      "source": [
        "# natural exponential\n",
        "tf.exp(T)"
      ],
      "execution_count": 104,
      "outputs": [
        {
          "output_type": "execute_result",
          "data": {
            "text/plain": [
              "<tf.Tensor: shape=(4,), dtype=float32, numpy=array([ 7.389056,  7.389056, 20.085537, 54.59815 ], dtype=float32)>"
            ]
          },
          "metadata": {
            "tags": []
          },
          "execution_count": 104
        }
      ]
    },
    {
      "cell_type": "code",
      "metadata": {
        "colab": {
          "base_uri": "https://localhost:8080/"
        },
        "id": "dDRHKKiJ9pR9",
        "outputId": "efb8e7dc-422d-4d84-a1e0-714029c73945"
      },
      "source": [
        "# natural log\n",
        "tf.math.log(T)"
      ],
      "execution_count": 99,
      "outputs": [
        {
          "output_type": "execute_result",
          "data": {
            "text/plain": [
              "<tf.Tensor: shape=(4,), dtype=float32, numpy=array([0.6931472, 0.6931472, 1.0986123, 1.3862944], dtype=float32)>"
            ]
          },
          "metadata": {
            "tags": []
          },
          "execution_count": 99
        }
      ]
    },
    {
      "cell_type": "code",
      "metadata": {
        "colab": {
          "base_uri": "https://localhost:8080/"
        },
        "id": "GP38HIom-W4a",
        "outputId": "a1ab2dec-4dc4-4af3-f575-8fa243cee482"
      },
      "source": [
        "# squared root\n",
        "tf.math.sqrt(T)"
      ],
      "execution_count": 100,
      "outputs": [
        {
          "output_type": "execute_result",
          "data": {
            "text/plain": [
              "<tf.Tensor: shape=(4,), dtype=float32, numpy=array([1.4142135, 1.4142135, 1.7320508, 2.       ], dtype=float32)>"
            ]
          },
          "metadata": {
            "tags": []
          },
          "execution_count": 100
        }
      ]
    },
    {
      "cell_type": "code",
      "metadata": {
        "colab": {
          "base_uri": "https://localhost:8080/"
        },
        "id": "leMvEa98C2hR",
        "outputId": "21134d59-b3eb-4401-d191-edfbed140f7e"
      },
      "source": [
        "# power\n",
        "tf.math.pow(T, [2,2,2,2])"
      ],
      "execution_count": 103,
      "outputs": [
        {
          "output_type": "execute_result",
          "data": {
            "text/plain": [
              "<tf.Tensor: shape=(4,), dtype=float32, numpy=array([ 4.,  4.,  9., 16.], dtype=float32)>"
            ]
          },
          "metadata": {
            "tags": []
          },
          "execution_count": 103
        }
      ]
    },
    {
      "cell_type": "code",
      "metadata": {
        "colab": {
          "base_uri": "https://localhost:8080/"
        },
        "id": "xb1i4IXpDTUC",
        "outputId": "ca4e79c5-e2b7-4bf8-f15f-29f59b83aa36"
      },
      "source": [
        "# square\n",
        "tf.square(T)"
      ],
      "execution_count": 105,
      "outputs": [
        {
          "output_type": "execute_result",
          "data": {
            "text/plain": [
              "<tf.Tensor: shape=(4,), dtype=float32, numpy=array([ 4.,  4.,  9., 16.], dtype=float32)>"
            ]
          },
          "metadata": {
            "tags": []
          },
          "execution_count": 105
        }
      ]
    },
    {
      "cell_type": "markdown",
      "metadata": {
        "id": "MiOzREzsHQEk"
      },
      "source": [
        "When creating a tensor with numpy array, the default dtype is going to be float64. If we do it from a list, the default type is going to be float32"
      ]
    },
    {
      "cell_type": "code",
      "metadata": {
        "colab": {
          "base_uri": "https://localhost:8080/"
        },
        "id": "GhUh-VIWFa8N",
        "outputId": "3ae92c3e-76dd-4021-de65-8c9609d5bb8d"
      },
      "source": [
        "numpy_T = tf.constant(np.array([2.,3.]))\n",
        "tensor_T = tf.constant([2.,3.])\n",
        "\n",
        "numpy_T.dtype, tensor_T.dtype"
      ],
      "execution_count": 106,
      "outputs": [
        {
          "output_type": "execute_result",
          "data": {
            "text/plain": [
              "(tf.float64, tf.float32)"
            ]
          },
          "metadata": {
            "tags": []
          },
          "execution_count": 106
        }
      ]
    },
    {
      "cell_type": "markdown",
      "metadata": {
        "id": "wRXJyk31Ig76"
      },
      "source": [
        "## 14. Finding access to GPUs"
      ]
    },
    {
      "cell_type": "code",
      "metadata": {
        "colab": {
          "base_uri": "https://localhost:8080/"
        },
        "id": "4Fl9eUfVHrSG",
        "outputId": "9158bf62-2c8a-4e41-ca7c-21e97fe631e1"
      },
      "source": [
        "# list devices\n",
        "tf.config.list_physical_devices()"
      ],
      "execution_count": 109,
      "outputs": [
        {
          "output_type": "execute_result",
          "data": {
            "text/plain": [
              "[PhysicalDevice(name='/physical_device:CPU:0', device_type='CPU')]"
            ]
          },
          "metadata": {
            "tags": []
          },
          "execution_count": 109
        }
      ]
    }
  ]
}