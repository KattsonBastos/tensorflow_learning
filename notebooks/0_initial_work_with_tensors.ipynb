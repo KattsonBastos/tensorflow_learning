{
  "nbformat": 4,
  "nbformat_minor": 0,
  "metadata": {
    "colab": {
      "name": "0. initial_work_with_tensors.ipynb",
      "provenance": [],
      "collapsed_sections": [],
      "authorship_tag": "ABX9TyP9qn0gWk/sccXaTMYH9LH8"
    },
    "kernelspec": {
      "name": "python3",
      "display_name": "Python 3"
    },
    "language_info": {
      "name": "python"
    }
  },
  "cells": [
    {
      "cell_type": "markdown",
      "metadata": {
        "id": "yTcLx2R2otTP"
      },
      "source": [
        "# MANIPULATING TENSORS WITH TENSORFLOW"
      ]
    },
    {
      "cell_type": "markdown",
      "metadata": {
        "id": "-eeVegKzozBz"
      },
      "source": [
        ""
      ]
    },
    {
      "cell_type": "code",
      "metadata": {
        "colab": {
          "base_uri": "https://localhost:8080/"
        },
        "id": "G5RQXS-2oyqQ",
        "outputId": "02d69f49-98d1-4e99-fa21-680426d323cf"
      },
      "source": [
        "import numpy as np\n",
        "import tensorflow as tf\n",
        "print(tf.__version__)"
      ],
      "execution_count": 39,
      "outputs": [
        {
          "output_type": "stream",
          "text": [
            "2.4.1\n"
          ],
          "name": "stdout"
        }
      ]
    },
    {
      "cell_type": "markdown",
      "metadata": {
        "id": "1ZXdQuhWvxZ3"
      },
      "source": [
        "## 0. Tensors with `tf.constant`\n",
        "tf.constant: creates a constant tensor from a tensor-like object\n",
        "\n",
        "Once assigned, they can't be changed"
      ]
    },
    {
      "cell_type": "code",
      "metadata": {
        "colab": {
          "base_uri": "https://localhost:8080/"
        },
        "id": "NYKCDoMGoxm3",
        "outputId": "2e41d7f3-8b97-4403-b34a-a70a17bb86e1"
      },
      "source": [
        "# creating a scalar\n",
        "scalar = tf.constant(12)\n",
        "scalar"
      ],
      "execution_count": null,
      "outputs": [
        {
          "output_type": "execute_result",
          "data": {
            "text/plain": [
              "<tf.Tensor: shape=(), dtype=int32, numpy=12>"
            ]
          },
          "metadata": {
            "tags": []
          },
          "execution_count": 3
        }
      ]
    },
    {
      "cell_type": "code",
      "metadata": {
        "colab": {
          "base_uri": "https://localhost:8080/"
        },
        "id": "i419t_t4wpqT",
        "outputId": "d4651150-487a-4647-a22c-958c136c32fc"
      },
      "source": [
        "# creating a vector\n",
        "vector = tf.constant([25,10,93])\n",
        "vector"
      ],
      "execution_count": null,
      "outputs": [
        {
          "output_type": "execute_result",
          "data": {
            "text/plain": [
              "<tf.Tensor: shape=(3,), dtype=int32, numpy=array([25, 10, 93], dtype=int32)>"
            ]
          },
          "metadata": {
            "tags": []
          },
          "execution_count": 5
        }
      ]
    },
    {
      "cell_type": "code",
      "metadata": {
        "colab": {
          "base_uri": "https://localhost:8080/"
        },
        "id": "H0inJ0ODxXrU",
        "outputId": "b3a246aa-7e9b-4a5b-baf8-83e849fed8aa"
      },
      "source": [
        "# creating a matrix\n",
        "matrix = tf.constant([[25,10],\n",
        "                      [19,93]])\n",
        "matrix"
      ],
      "execution_count": null,
      "outputs": [
        {
          "output_type": "execute_result",
          "data": {
            "text/plain": [
              "<tf.Tensor: shape=(2, 2), dtype=int32, numpy=\n",
              "array([[25, 10],\n",
              "       [19, 93]], dtype=int32)>"
            ]
          },
          "metadata": {
            "tags": []
          },
          "execution_count": 10
        }
      ]
    },
    {
      "cell_type": "code",
      "metadata": {
        "colab": {
          "base_uri": "https://localhost:8080/"
        },
        "id": "tyu19BoXykNx",
        "outputId": "bac6e19f-5806-4a38-a4ee-95af4aad3f2b"
      },
      "source": [
        "# creating a tensor\n",
        "tensor = tf.constant([[[25,10],\n",
        "                      [19,93]],\n",
        "\n",
        "                      [[11,40],\n",
        "                       [20,10]],\n",
        "                      \n",
        "                      [[1,2],\n",
        "                       [2,3]]])\n",
        "tensor # that is, 3 matrices of 2x2"
      ],
      "execution_count": null,
      "outputs": [
        {
          "output_type": "execute_result",
          "data": {
            "text/plain": [
              "<tf.Tensor: shape=(3, 2, 2), dtype=int32, numpy=\n",
              "array([[[25, 10],\n",
              "        [19, 93]],\n",
              "\n",
              "       [[11, 40],\n",
              "        [20, 10]],\n",
              "\n",
              "       [[ 1,  2],\n",
              "        [ 2,  3]]], dtype=int32)>"
            ]
          },
          "metadata": {
            "tags": []
          },
          "execution_count": 18
        }
      ]
    },
    {
      "cell_type": "markdown",
      "metadata": {
        "id": "eK6bYCFrwecb"
      },
      "source": [
        "#### Dimension of a tensor\n",
        "\n",
        "scalar has a 0 dimension because the shape in the above output is zero"
      ]
    },
    {
      "cell_type": "code",
      "metadata": {
        "id": "qExMqVGvn_M0",
        "colab": {
          "base_uri": "https://localhost:8080/"
        },
        "outputId": "09e573b0-5466-4bbd-bd02-901f000d00e1"
      },
      "source": [
        "print(f'scalar dim: {scalar.ndim}')\n",
        "print(f'vector dim: {vector.ndim}')\n",
        "print(f'matrix dim: {matrix.ndim}')\n",
        "print(f'tensor dim: {tensor.ndim}')"
      ],
      "execution_count": null,
      "outputs": [
        {
          "output_type": "stream",
          "text": [
            "scalar dim: 0\n",
            "vector dim: 1\n",
            "matrix dim: 2\n",
            "tensor dim: 3\n"
          ],
          "name": "stdout"
        }
      ]
    },
    {
      "cell_type": "markdown",
      "metadata": {
        "id": "Pv262m62pOUj"
      },
      "source": [
        "## 1. Tensors with `tf.Variable`\n",
        "\n",
        "They can be changed using `.assign`"
      ]
    },
    {
      "cell_type": "code",
      "metadata": {
        "id": "wruFOV68osok",
        "colab": {
          "base_uri": "https://localhost:8080/"
        },
        "outputId": "7d98d1c1-2f42-4a03-84db-fb2ee6ec5447"
      },
      "source": [
        "changeable_tensor = tf.Variable([10,7])\n",
        "unchangeble_twnsor = tf.constant([10,7])\n",
        "changeable_tensor,unchangeble_twnsor"
      ],
      "execution_count": 7,
      "outputs": [
        {
          "output_type": "execute_result",
          "data": {
            "text/plain": [
              "(<tf.Variable 'Variable:0' shape=(2,) dtype=int32, numpy=array([10,  7], dtype=int32)>,\n",
              " <tf.Tensor: shape=(2,), dtype=int32, numpy=array([10,  7], dtype=int32)>)"
            ]
          },
          "metadata": {
            "tags": []
          },
          "execution_count": 7
        }
      ]
    },
    {
      "cell_type": "code",
      "metadata": {
        "colab": {
          "base_uri": "https://localhost:8080/"
        },
        "id": "vsGqg-4tpqhR",
        "outputId": "020a6ce9-53b0-46f4-e4e8-8c7acc024603"
      },
      "source": [
        "changeable_tensor[0].assign(2)\n",
        "changeable_tensor"
      ],
      "execution_count": 9,
      "outputs": [
        {
          "output_type": "execute_result",
          "data": {
            "text/plain": [
              "<tf.Variable 'Variable:0' shape=(2,) dtype=int32, numpy=array([2, 7], dtype=int32)>"
            ]
          },
          "metadata": {
            "tags": []
          },
          "execution_count": 9
        }
      ]
    },
    {
      "cell_type": "markdown",
      "metadata": {
        "id": "wi38xQ80sH6U"
      },
      "source": [
        "## 2. Creating Random Tensors - `tf.random.Generator`\n",
        "\n",
        "Random tensors are tensors of some arbitrary size which contain random numbers."
      ]
    },
    {
      "cell_type": "code",
      "metadata": {
        "colab": {
          "base_uri": "https://localhost:8080/"
        },
        "id": "rRtJ-e8HqeNh",
        "outputId": "e3b376d2-b073-46bb-983c-d6bed3102430"
      },
      "source": [
        "random_1 = tf.random.Generator.from_seed(42)\n",
        "random_1 = random_1.normal(shape=(3,2,1))\n",
        "\n",
        "random_2 = tf.random.Generator.from_seed(42)\n",
        "random_2 = random_2.normal(shape = (3,2,1))\n",
        "random_1, random_2"
      ],
      "execution_count": 15,
      "outputs": [
        {
          "output_type": "execute_result",
          "data": {
            "text/plain": [
              "(<tf.Tensor: shape=(3, 2, 1), dtype=float32, numpy=\n",
              " array([[[-0.7565803 ],\n",
              "         [-0.06854702]],\n",
              " \n",
              "        [[ 0.07595026],\n",
              "         [-1.2573844 ]],\n",
              " \n",
              "        [[-0.23193763],\n",
              "         [-1.8107855 ]]], dtype=float32)>,\n",
              " <tf.Tensor: shape=(3, 2, 1), dtype=float32, numpy=\n",
              " array([[[-0.7565803 ],\n",
              "         [-0.06854702]],\n",
              " \n",
              "        [[ 0.07595026],\n",
              "         [-1.2573844 ]],\n",
              " \n",
              "        [[-0.23193763],\n",
              "         [-1.8107855 ]]], dtype=float32)>)"
            ]
          },
          "metadata": {
            "tags": []
          },
          "execution_count": 15
        }
      ]
    },
    {
      "cell_type": "markdown",
      "metadata": {
        "id": "LHpZFVNe16nM"
      },
      "source": [
        "## 3. Shuffle the Order of a Tensor\n",
        "\n",
        "`tf.random.shuffle`: shuffles the tensor along its first dimension.\n",
        "\n",
        "If both the global and the operation seed are set: Both seeds are used in conjunction to determine the random sequence."
      ]
    },
    {
      "cell_type": "code",
      "metadata": {
        "colab": {
          "base_uri": "https://localhost:8080/"
        },
        "id": "dNd7y74eyiIm",
        "outputId": "dbc83be9-ec25-4e2e-ac11-ebdb369c1345"
      },
      "source": [
        "tf.random.shuffle(random_1, seed = 42)"
      ],
      "execution_count": 20,
      "outputs": [
        {
          "output_type": "execute_result",
          "data": {
            "text/plain": [
              "<tf.Tensor: shape=(3, 2, 1), dtype=float32, numpy=\n",
              "array([[[-0.23193763],\n",
              "        [-1.8107855 ]],\n",
              "\n",
              "       [[ 0.07595026],\n",
              "        [-1.2573844 ]],\n",
              "\n",
              "       [[-0.7565803 ],\n",
              "        [-0.06854702]]], dtype=float32)>"
            ]
          },
          "metadata": {
            "tags": []
          },
          "execution_count": 20
        }
      ]
    },
    {
      "cell_type": "code",
      "metadata": {
        "colab": {
          "base_uri": "https://localhost:8080/"
        },
        "id": "IiqN2KmU2pK1",
        "outputId": "f29bceca-180c-4b6e-f738-7af8902e0e60"
      },
      "source": [
        "tf.random.set_seed(4)\n",
        "tf.random.shuffle(random_1)"
      ],
      "execution_count": 35,
      "outputs": [
        {
          "output_type": "execute_result",
          "data": {
            "text/plain": [
              "<tf.Tensor: shape=(3, 2, 1), dtype=float32, numpy=\n",
              "array([[[-0.7565803 ],\n",
              "        [-0.06854702]],\n",
              "\n",
              "       [[ 0.07595026],\n",
              "        [-1.2573844 ]],\n",
              "\n",
              "       [[-0.23193763],\n",
              "        [-1.8107855 ]]], dtype=float32)>"
            ]
          },
          "metadata": {
            "tags": []
          },
          "execution_count": 35
        }
      ]
    },
    {
      "cell_type": "markdown",
      "metadata": {
        "id": "gyee6bB44neT"
      },
      "source": [
        "## 4. Tensors and Numpy Arrays\n",
        "\n",
        "The main difference between them is that tensors can be run on GPU, so, it's much faster."
      ]
    },
    {
      "cell_type": "code",
      "metadata": {
        "colab": {
          "base_uri": "https://localhost:8080/"
        },
        "id": "AkoJS1JS4ihO",
        "outputId": "0d89bf4a-2358-4802-b4f7-017ee3f68224"
      },
      "source": [
        "# tensor of ones\n",
        "tf.ones([2,2])"
      ],
      "execution_count": 44,
      "outputs": [
        {
          "output_type": "execute_result",
          "data": {
            "text/plain": [
              "<tf.Tensor: shape=(2, 2), dtype=float32, numpy=\n",
              "array([[1., 1.],\n",
              "       [1., 1.]], dtype=float32)>"
            ]
          },
          "metadata": {
            "tags": []
          },
          "execution_count": 44
        }
      ]
    },
    {
      "cell_type": "code",
      "metadata": {
        "colab": {
          "base_uri": "https://localhost:8080/"
        },
        "id": "7JVwXlDE39WJ",
        "outputId": "88ff5015-2f16-44ff-b6f6-148318779d93"
      },
      "source": [
        "# all zeroes\n",
        "tf.zeros([2,2])"
      ],
      "execution_count": 45,
      "outputs": [
        {
          "output_type": "execute_result",
          "data": {
            "text/plain": [
              "<tf.Tensor: shape=(2, 2), dtype=float32, numpy=\n",
              "array([[0., 0.],\n",
              "       [0., 0.]], dtype=float32)>"
            ]
          },
          "metadata": {
            "tags": []
          },
          "execution_count": 45
        }
      ]
    },
    {
      "cell_type": "code",
      "metadata": {
        "colab": {
          "base_uri": "https://localhost:8080/"
        },
        "id": "wXKFWykf5-HQ",
        "outputId": "74c3ab06-3875-472d-bc8d-b12da6b357fd"
      },
      "source": [
        "tf.identity([2,2])"
      ],
      "execution_count": 47,
      "outputs": [
        {
          "output_type": "execute_result",
          "data": {
            "text/plain": [
              "<tf.Tensor: shape=(), dtype=int32, numpy=2>"
            ]
          },
          "metadata": {
            "tags": []
          },
          "execution_count": 47
        }
      ]
    },
    {
      "cell_type": "code",
      "metadata": {
        "colab": {
          "base_uri": "https://localhost:8080/"
        },
        "id": "yZm0KTgb6WUR",
        "outputId": "83181e16-bae3-4b8f-9dc7-60e7cf3d476d"
      },
      "source": [
        "# turning numpy arrays into tensors\n",
        "a = np.arange(0, 12)\n",
        "A = tf.constant(a, shape=(2,3,2))\n",
        "a, A"
      ],
      "execution_count": 61,
      "outputs": [
        {
          "output_type": "execute_result",
          "data": {
            "text/plain": [
              "(array([ 0,  1,  2,  3,  4,  5,  6,  7,  8,  9, 10, 11]),\n",
              " <tf.Tensor: shape=(2, 3, 2), dtype=int64, numpy=\n",
              " array([[[ 0,  1],\n",
              "         [ 2,  3],\n",
              "         [ 4,  5]],\n",
              " \n",
              "        [[ 6,  7],\n",
              "         [ 8,  9],\n",
              "         [10, 11]]])>)"
            ]
          },
          "metadata": {
            "tags": []
          },
          "execution_count": 61
        }
      ]
    }
  ]
}
